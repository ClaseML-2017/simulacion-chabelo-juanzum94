{
 "cells": [
  {
   "cell_type": "markdown",
   "metadata": {},
   "source": [
    "# #Chabelo"
   ]
  },
  {
   "cell_type": "markdown",
   "metadata": {},
   "source": [
    "3 door, 1 is the wonning door, 1 is th contest\n",
    "Chabelo opens a door that is mpy the winning door or the one chosen by the contest\n",
    "The contest choose whether to switch door or not\n",
    "Create a simulation and compares the win rate if the contests switches door or not\n",
    "Import random as rand rand.rand(firstNumber, secondNumber) where firstNumb<=rand<=secondNumb rand.choice(array)"
   ]
  },
  {
   "cell_type": "code",
   "execution_count": 143,
   "metadata": {
    "collapsed": true
   },
   "outputs": [],
   "source": [
    "import random as rand"
   ]
  },
  {
   "cell_type": "code",
   "execution_count": 152,
   "metadata": {
    "collapsed": true
   },
   "outputs": [],
   "source": [
    "experiments=20"
   ]
  },
  {
   "cell_type": "code",
   "execution_count": 153,
   "metadata": {
    "collapsed": true
   },
   "outputs": [],
   "source": [
    "premio=[rand.randint (1,3) for i in range(experiments) ]\n"
   ]
  },
  {
   "cell_type": "code",
   "execution_count": 154,
   "metadata": {
    "collapsed": true
   },
   "outputs": [],
   "source": [
    "my_choice=[rand.randint(1,3) for i in range(experiments)]\n"
   ]
  },
  {
   "cell_type": "code",
   "execution_count": 155,
   "metadata": {
    "collapsed": true
   },
   "outputs": [],
   "source": [
    "chabelo=[]\n",
    "for i in range(experiments):\n",
    "    if my_choice[i]!=premio[i]: #the other available door\n",
    "        chabelo.append(rand.choice([x for x in [1,2,3] if x!=my_choice[i] and x!=premio[i]]))\n",
    "    else:\n",
    "        chabelo.append(rand.choice([x for x in [1,2,3] if x!=my_choice[i]]))"
   ]
  },
  {
   "cell_type": "code",
   "execution_count": 158,
   "metadata": {},
   "outputs": [
    {
     "name": "stdout",
     "output_type": "stream",
     "text": [
      "En el intento 1 ,el jugador decidio quedarse en 2 y el premio esta en 1 \n",
      "En el intento 2, el jugador decidio cambiarse a 3 y el premio esta en 3 \n",
      "En el intento 3, el jugador decidio cambiarse a 2 y el premio esta en 2 \n",
      "En el intento 4, el jugador decidio cambiarse a 2 y el premio esta en 2 \n",
      "En el intento 5, el jugador decidio cambiarse a 2 y el premio esta en 2 \n",
      "En el intento 6, el jugador decidio cambiarse a 3 y el premio esta en 1 \n",
      "En el intento 7, el jugador decidio cambiarse a 1 y el premio esta en 1 \n",
      "En el intento 8, el jugador decidio cambiarse a 1 y el premio esta en 1 \n",
      "En el intento 9, el jugador decidio cambiarse a 1 y el premio esta en 1 \n",
      "En el intento 10, el jugador decidio cambiarse a 3 y el premio esta en 3 \n",
      "En el intento 11, el jugador decidio cambiarse a 2 y el premio esta en 3 \n",
      "En el intento 12, el jugador decidio cambiarse a 3 y el premio esta en 3 \n",
      "En el intento 13, el jugador decidio cambiarse a 2 y el premio esta en 2 \n",
      "En el intento 14, el jugador decidio cambiarse a 2 y el premio esta en 2 \n",
      "En el intento 15, el jugador decidio cambiarse a 1 y el premio esta en 1 \n",
      "En el intento 16, el jugador decidio cambiarse a 2 y el premio esta en 1 \n",
      "En el intento 17, el jugador decidio cambiarse a 3 y el premio esta en 3 \n",
      "En el intento 18, el jugador decidio cambiarse a 1 y el premio esta en 2 \n",
      "En el intento 19, el jugador decidio cambiarse a 2 y el premio esta en 3 \n",
      "En el intento 20, el jugador decidio cambiarse a 3 y el premio esta en 3 \n",
      "Si nos hubieramos quedado con la primer eleccion, hubieramos ganado 5 de 20 intentos \n"
     ]
    }
   ],
   "source": [
    "decision_nueva=[] # Nueva decision de acuerdo a la simulación\n",
    "decision_nueva.append(my_choice[0])# Suponemos que en el primer intento decide quedarse con su misma elección\n",
    "if my_choice[0]==premio[0]:#Si la eleccion es correcta  tenemos un contador que nos muestra cuantas veces le hubieramos atinado si no nos cambiamos\n",
    "    contador=1\n",
    "    total=1\n",
    "    prob_muestra=contador*100/total # La probabilidad muestral porcentualmente dado los experimentos pasados\n",
    "else:\n",
    "    contador=0\n",
    "    total=1\n",
    "    prob_muestra=contador*100/total\n",
    "print(\"En el intento {} ,el jugador decidio quedarse en {} y el premio esta en {} \".format(1,decision_nueva[0],premio[0]))\n",
    "for i in range(1,experiments):\n",
    "    if prob_muestra<= 50: # Si resulta que ha salido más veces muestralmente el que no escogimos nos conviene cambiarnos\n",
    "        decision_nueva.append(rand.choice([x for x in [1,2,3] if x!=my_choice[i] and x!=chabelo[i]]))\n",
    "        print(\"En el intento {}, el jugador decidio cambiarse a {} y el premio esta en {} \".format(i+1,decision_nueva[i],premio[i]))\n",
    "    else:\n",
    "        decision_nueva.append(rand.choice([x for x in [1,2,3] if x==my_choice[i]]))\n",
    "        print(\"En el intento {}, el jugador decidio quedarse en  {} y el premio esta en {} \".format(i+1,decision_nueva[i],premio[i]))\n",
    "    if my_choice[i]==premio[i]:# Si resulta que la decision correcta era la eleccion anterior\n",
    "            contador=contador + 1 #Sumamos 1 al contador\n",
    "            total=total + 1\n",
    "            prob_muestra= contador*100/total # La probablidad muestral dado los experimentos pasados\n",
    "    else:\n",
    "            contador=contador + 0 # Si resulta que la decision correcta era cambiar de seleccion\n",
    "            total=total + 1\n",
    "            prob_muestra= contador*100/total\n",
    "            \n",
    "print(\"Si nos hubieramos quedado con la primer eleccion, hubieramos ganado {} de {} intentos \".format(contador,total))"
   ]
  },
  {
   "cell_type": "markdown",
   "metadata": {
    "collapsed": true
   },
   "source": [
    "Si suponemos que la persona que esta jugando tiene memoria decide mejor cambiarse en las ultimas elecciones. La tasa de ganar muestralmente si se cambia es mayor."
   ]
  },
  {
   "cell_type": "code",
   "execution_count": null,
   "metadata": {
    "collapsed": true
   },
   "outputs": [],
   "source": []
  }
 ],
 "metadata": {
  "kernelspec": {
   "display_name": "Python 2",
   "language": "python",
   "name": "python2"
  },
  "language_info": {
   "codemirror_mode": {
    "name": "ipython",
    "version": 2
   },
   "file_extension": ".py",
   "mimetype": "text/x-python",
   "name": "python",
   "nbconvert_exporter": "python",
   "pygments_lexer": "ipython2",
   "version": "2.7.13"
  }
 },
 "nbformat": 4,
 "nbformat_minor": 2
}
